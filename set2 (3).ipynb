{
  "nbformat": 4,
  "nbformat_minor": 0,
  "metadata": {
    "colab": {
      "provenance": []
    },
    "kernelspec": {
      "name": "python3",
      "display_name": "Python 3"
    },
    "language_info": {
      "name": "python"
    }
  },
  "cells": [
    {
      "cell_type": "code",
      "execution_count": null,
      "metadata": {
        "id": "7xyBi7o5KkU4"
      },
      "outputs": [],
      "source": []
    },
    {
      "cell_type": "code",
      "source": [
        "import numpy as np\n",
        "import pandas as pd\n",
        "import matplotlib.pyplot as plt\n",
        "from sklearn.preprocessing import MinMaxScaler\n",
        "from sklearn.metrics import mean_absolute_error, mean_squared_error\n",
        "from keras.models import Sequential\n",
        "from keras.layers import LSTM, Dense"
      ],
      "metadata": {
        "id": "8pUjTJIsKugc"
      },
      "execution_count": null,
      "outputs": []
    },
    {
      "cell_type": "code",
      "source": [
        "# Load the dataset\n",
        "df = pd.read_csv(\"/content/ZOMATO.NS (1).csv\")\n"
      ],
      "metadata": {
        "id": "Uczdi86-Kxdx"
      },
      "execution_count": null,
      "outputs": []
    },
    {
      "cell_type": "code",
      "source": [
        "# Function to calculate Relative Strength Index (RSI)\n",
        "def calculate_rsi(data, window=14):\n",
        "    delta = np.diff(data, axis=0)\n",
        "    gain = (delta >= 0) * delta\n",
        "    loss = (delta < 0) * -delta\n",
        "    avg_gain = np.zeros_like(data)\n",
        "    avg_loss = np.zeros_like(data)\n",
        "    for i in range(1, len(data)):\n",
        "        avg_gain[i] = (avg_gain[i-1] * (window - 1) + gain[i-1]) / window\n",
        "        avg_loss[i] = (avg_loss[i-1] * (window - 1) + loss[i-1]) / window\n",
        "    rs = avg_gain / avg_loss\n",
        "    rsi = 100 - (100 / (1 + rs))\n",
        "    return rsi"
      ],
      "metadata": {
        "id": "Ih_dmiHNz30X"
      },
      "execution_count": null,
      "outputs": []
    },
    {
      "cell_type": "code",
      "source": [
        "data = df['Close'].values.reshape(-1,1)"
      ],
      "metadata": {
        "id": "NlYx0iQ0LEIh"
      },
      "execution_count": null,
      "outputs": []
    },
    {
      "cell_type": "code",
      "source": [
        "# Calculate RSI\n",
        "rsi = calculate_rsi(data)\n",
        "\n",
        "# Add RSI as a new feature to the dataset\n",
        "df['RSI'] = rsi"
      ],
      "metadata": {
        "colab": {
          "base_uri": "https://localhost:8080/"
        },
        "id": "KOieIReS0B8q",
        "outputId": "4afea881-f0f6-4efe-baf2-0d6b3f59de72"
      },
      "execution_count": null,
      "outputs": [
        {
          "output_type": "stream",
          "name": "stderr",
          "text": [
            "<ipython-input-3-e4a4653173f6>:11: RuntimeWarning: divide by zero encountered in divide\n",
            "  rs = avg_gain / avg_loss\n",
            "<ipython-input-3-e4a4653173f6>:11: RuntimeWarning: invalid value encountered in divide\n",
            "  rs = avg_gain / avg_loss\n"
          ]
        }
      ]
    },
    {
      "cell_type": "code",
      "source": [
        "# Print the first few rows of the modified DataFrame\n",
        "print(df.head())"
      ],
      "metadata": {
        "colab": {
          "base_uri": "https://localhost:8080/"
        },
        "id": "Deb2a-Y20FXC",
        "outputId": "d72a4a74-8d81-4c3b-d08e-93e951fc4c29"
      },
      "execution_count": null,
      "outputs": [
        {
          "output_type": "stream",
          "name": "stdout",
          "text": [
            "         Date        Open        High         Low       Close   Adj Close  \\\n",
            "0  2021-07-23  116.000000  138.899994  115.000000  126.000000  126.000000   \n",
            "1  2021-07-26  126.349998  143.750000  125.300003  140.649994  140.649994   \n",
            "2  2021-07-27  141.699997  147.800003  127.750000  132.899994  132.899994   \n",
            "3  2021-07-28  131.000000  135.000000  123.550003  131.199997  131.199997   \n",
            "4  2021-07-29  134.949997  144.000000  132.199997  141.550003  141.550003   \n",
            "\n",
            "      Volume         RSI  \n",
            "0  694895290         NaN  \n",
            "1  249723854  100.000000  \n",
            "2  240341900   63.706296  \n",
            "3  159793731   58.675686  \n",
            "4  117973089   72.772547  \n"
          ]
        }
      ]
    },
    {
      "cell_type": "code",
      "source": [
        "scaler = MinMaxScaler(feature_range=(0, 1))\n",
        "scaled_data = scaler.fit_transform(data)"
      ],
      "metadata": {
        "id": "AB1LUkJTLSfi"
      },
      "execution_count": null,
      "outputs": []
    },
    {
      "cell_type": "code",
      "source": [
        "# Split the data into training and testing sets\n",
        "train_size = int(len(scaled_data) * 0.80)\n",
        "test_size = len(scaled_data) - train_size\n",
        "train_data, test_data = scaled_data[0:train_size,:], scaled_data[train_size:len(scaled_data),:]"
      ],
      "metadata": {
        "id": "jm9SQLwoLayI"
      },
      "execution_count": null,
      "outputs": []
    },
    {
      "cell_type": "code",
      "source": [
        "# Function to create the dataset with look back\n",
        "def create_dataset(dataset, look_back=1):\n",
        "    X, Y = [], []\n",
        "    for i in range(len(dataset)-look_back):\n",
        "        X.append(dataset[i:(i+look_back), 0])\n",
        "        Y.append(dataset[i + look_back, 0])\n",
        "    return np.array(X), np.array(Y)"
      ],
      "metadata": {
        "id": "P7090QuBMXlf"
      },
      "execution_count": null,
      "outputs": []
    },
    {
      "cell_type": "code",
      "source": [
        "# Reshape into X=t and Y=t+1\n",
        "look_back = 1\n",
        "trainX, trainY = create_dataset(train_data, look_back)\n",
        "testX, testY = create_dataset(test_data, look_back)"
      ],
      "metadata": {
        "id": "ix2AI-GlMl5_"
      },
      "execution_count": null,
      "outputs": []
    },
    {
      "cell_type": "code",
      "source": [
        "# Reshape input to be [samples, time steps, features]\n",
        "trainX = np.reshape(trainX, (trainX.shape[0], 1, trainX.shape[1]))\n",
        "testX = np.reshape(testX, (testX.shape[0], 1, testX.shape[1]))"
      ],
      "metadata": {
        "id": "40sWdw5qsQPh"
      },
      "execution_count": null,
      "outputs": []
    },
    {
      "cell_type": "code",
      "source": [
        "# Build the LSTM model\n",
        "model = Sequential()\n",
        "model.add(LSTM(units=50, input_shape=(1, look_back)))\n",
        "model.add(Dense(units=1))\n",
        "model.compile(optimizer='adam', loss='mean_squared_error')"
      ],
      "metadata": {
        "id": "wOSPTcLSsSZp"
      },
      "execution_count": null,
      "outputs": []
    },
    {
      "cell_type": "code",
      "source": [
        "# Train the model\n",
        "model.fit(trainX, trainY, epochs=100, batch_size=1, verbose=2)"
      ],
      "metadata": {
        "colab": {
          "base_uri": "https://localhost:8080/"
        },
        "id": "C0y2y1X_sUnE",
        "outputId": "839fd4c5-cd3e-45b7-f3bd-9dfeaf3262fd"
      },
      "execution_count": null,
      "outputs": [
        {
          "output_type": "stream",
          "name": "stdout",
          "text": [
            "Epoch 1/100\n",
            "543/543 - 3s - loss: 0.0173 - 3s/epoch - 5ms/step\n",
            "Epoch 2/100\n",
            "543/543 - 1s - loss: 6.0929e-04 - 1s/epoch - 2ms/step\n",
            "Epoch 3/100\n",
            "543/543 - 1s - loss: 4.7265e-04 - 966ms/epoch - 2ms/step\n",
            "Epoch 4/100\n",
            "543/543 - 1s - loss: 4.9437e-04 - 964ms/epoch - 2ms/step\n",
            "Epoch 5/100\n",
            "543/543 - 1s - loss: 4.8858e-04 - 970ms/epoch - 2ms/step\n",
            "Epoch 6/100\n",
            "543/543 - 1s - loss: 5.0543e-04 - 1s/epoch - 2ms/step\n",
            "Epoch 7/100\n",
            "543/543 - 1s - loss: 4.9119e-04 - 1s/epoch - 2ms/step\n",
            "Epoch 8/100\n",
            "543/543 - 1s - loss: 5.0751e-04 - 1s/epoch - 3ms/step\n",
            "Epoch 9/100\n",
            "543/543 - 1s - loss: 5.0251e-04 - 977ms/epoch - 2ms/step\n",
            "Epoch 10/100\n",
            "543/543 - 1s - loss: 4.8647e-04 - 994ms/epoch - 2ms/step\n",
            "Epoch 11/100\n",
            "543/543 - 1s - loss: 5.3387e-04 - 983ms/epoch - 2ms/step\n",
            "Epoch 12/100\n",
            "543/543 - 1s - loss: 4.8410e-04 - 973ms/epoch - 2ms/step\n",
            "Epoch 13/100\n",
            "543/543 - 1s - loss: 4.9447e-04 - 967ms/epoch - 2ms/step\n",
            "Epoch 14/100\n",
            "543/543 - 1s - loss: 4.9685e-04 - 966ms/epoch - 2ms/step\n",
            "Epoch 15/100\n",
            "543/543 - 1s - loss: 5.3001e-04 - 966ms/epoch - 2ms/step\n",
            "Epoch 16/100\n",
            "543/543 - 1s - loss: 4.8635e-04 - 1s/epoch - 2ms/step\n",
            "Epoch 17/100\n",
            "543/543 - 1s - loss: 5.0318e-04 - 976ms/epoch - 2ms/step\n",
            "Epoch 18/100\n",
            "543/543 - 1s - loss: 5.0394e-04 - 1s/epoch - 2ms/step\n",
            "Epoch 19/100\n",
            "543/543 - 1s - loss: 4.9453e-04 - 1s/epoch - 3ms/step\n",
            "Epoch 20/100\n",
            "543/543 - 1s - loss: 5.1170e-04 - 1s/epoch - 3ms/step\n",
            "Epoch 21/100\n",
            "543/543 - 1s - loss: 4.8794e-04 - 979ms/epoch - 2ms/step\n",
            "Epoch 22/100\n",
            "543/543 - 1s - loss: 5.2797e-04 - 972ms/epoch - 2ms/step\n",
            "Epoch 23/100\n",
            "543/543 - 1s - loss: 4.9289e-04 - 995ms/epoch - 2ms/step\n",
            "Epoch 24/100\n",
            "543/543 - 1s - loss: 5.0609e-04 - 1s/epoch - 2ms/step\n",
            "Epoch 25/100\n",
            "543/543 - 1s - loss: 4.9790e-04 - 1s/epoch - 2ms/step\n",
            "Epoch 26/100\n",
            "543/543 - 1s - loss: 4.8512e-04 - 1s/epoch - 2ms/step\n",
            "Epoch 27/100\n",
            "543/543 - 1s - loss: 4.7134e-04 - 1s/epoch - 2ms/step\n",
            "Epoch 28/100\n",
            "543/543 - 1s - loss: 4.8978e-04 - 1s/epoch - 2ms/step\n",
            "Epoch 29/100\n",
            "543/543 - 1s - loss: 4.9649e-04 - 1s/epoch - 2ms/step\n",
            "Epoch 30/100\n",
            "543/543 - 1s - loss: 5.2072e-04 - 1s/epoch - 2ms/step\n",
            "Epoch 31/100\n",
            "543/543 - 1s - loss: 4.7727e-04 - 1s/epoch - 3ms/step\n",
            "Epoch 32/100\n",
            "543/543 - 1s - loss: 4.9369e-04 - 1s/epoch - 2ms/step\n",
            "Epoch 33/100\n",
            "543/543 - 1s - loss: 4.8302e-04 - 980ms/epoch - 2ms/step\n",
            "Epoch 34/100\n",
            "543/543 - 1s - loss: 4.8860e-04 - 976ms/epoch - 2ms/step\n",
            "Epoch 35/100\n",
            "543/543 - 1s - loss: 4.9659e-04 - 1s/epoch - 2ms/step\n",
            "Epoch 36/100\n",
            "543/543 - 1s - loss: 4.6896e-04 - 1s/epoch - 2ms/step\n",
            "Epoch 37/100\n",
            "543/543 - 1s - loss: 4.7677e-04 - 966ms/epoch - 2ms/step\n",
            "Epoch 38/100\n",
            "543/543 - 1s - loss: 4.9719e-04 - 1s/epoch - 2ms/step\n",
            "Epoch 39/100\n",
            "543/543 - 1s - loss: 4.7944e-04 - 994ms/epoch - 2ms/step\n",
            "Epoch 40/100\n",
            "543/543 - 1s - loss: 4.8799e-04 - 993ms/epoch - 2ms/step\n",
            "Epoch 41/100\n",
            "543/543 - 1s - loss: 4.7584e-04 - 987ms/epoch - 2ms/step\n",
            "Epoch 42/100\n",
            "543/543 - 1s - loss: 5.2667e-04 - 1s/epoch - 2ms/step\n",
            "Epoch 43/100\n",
            "543/543 - 1s - loss: 4.7212e-04 - 1s/epoch - 3ms/step\n",
            "Epoch 44/100\n",
            "543/543 - 1s - loss: 4.7972e-04 - 1s/epoch - 2ms/step\n",
            "Epoch 45/100\n",
            "543/543 - 1s - loss: 4.9338e-04 - 990ms/epoch - 2ms/step\n",
            "Epoch 46/100\n",
            "543/543 - 1s - loss: 4.6589e-04 - 978ms/epoch - 2ms/step\n",
            "Epoch 47/100\n",
            "543/543 - 1s - loss: 5.1702e-04 - 1000ms/epoch - 2ms/step\n",
            "Epoch 48/100\n",
            "543/543 - 1s - loss: 4.7939e-04 - 984ms/epoch - 2ms/step\n",
            "Epoch 49/100\n",
            "543/543 - 1s - loss: 4.8753e-04 - 987ms/epoch - 2ms/step\n",
            "Epoch 50/100\n",
            "543/543 - 1s - loss: 4.8784e-04 - 1s/epoch - 2ms/step\n",
            "Epoch 51/100\n",
            "543/543 - 1s - loss: 4.6278e-04 - 989ms/epoch - 2ms/step\n",
            "Epoch 52/100\n",
            "543/543 - 1s - loss: 5.0518e-04 - 977ms/epoch - 2ms/step\n",
            "Epoch 53/100\n",
            "543/543 - 1s - loss: 4.7360e-04 - 966ms/epoch - 2ms/step\n",
            "Epoch 54/100\n",
            "543/543 - 1s - loss: 4.9943e-04 - 1s/epoch - 2ms/step\n",
            "Epoch 55/100\n",
            "543/543 - 1s - loss: 4.7834e-04 - 1s/epoch - 3ms/step\n",
            "Epoch 56/100\n",
            "543/543 - 1s - loss: 5.0584e-04 - 1s/epoch - 2ms/step\n",
            "Epoch 57/100\n",
            "543/543 - 1s - loss: 4.5079e-04 - 993ms/epoch - 2ms/step\n",
            "Epoch 58/100\n",
            "543/543 - 1s - loss: 4.7984e-04 - 1s/epoch - 2ms/step\n",
            "Epoch 59/100\n",
            "543/543 - 1s - loss: 4.9522e-04 - 985ms/epoch - 2ms/step\n",
            "Epoch 60/100\n",
            "543/543 - 1s - loss: 4.4499e-04 - 980ms/epoch - 2ms/step\n",
            "Epoch 61/100\n",
            "543/543 - 1s - loss: 4.7827e-04 - 967ms/epoch - 2ms/step\n",
            "Epoch 62/100\n",
            "543/543 - 1s - loss: 5.0035e-04 - 964ms/epoch - 2ms/step\n",
            "Epoch 63/100\n",
            "543/543 - 1s - loss: 4.6515e-04 - 998ms/epoch - 2ms/step\n",
            "Epoch 64/100\n",
            "543/543 - 1s - loss: 4.7824e-04 - 1s/epoch - 2ms/step\n",
            "Epoch 65/100\n",
            "543/543 - 1s - loss: 4.8991e-04 - 979ms/epoch - 2ms/step\n",
            "Epoch 66/100\n",
            "543/543 - 1s - loss: 4.5097e-04 - 1s/epoch - 2ms/step\n",
            "Epoch 67/100\n",
            "543/543 - 1s - loss: 4.8368e-04 - 1s/epoch - 3ms/step\n",
            "Epoch 68/100\n",
            "543/543 - 1s - loss: 4.8085e-04 - 1s/epoch - 2ms/step\n",
            "Epoch 69/100\n",
            "543/543 - 1s - loss: 4.6178e-04 - 965ms/epoch - 2ms/step\n",
            "Epoch 70/100\n",
            "543/543 - 1s - loss: 4.8156e-04 - 960ms/epoch - 2ms/step\n",
            "Epoch 71/100\n",
            "543/543 - 1s - loss: 4.8088e-04 - 1s/epoch - 2ms/step\n",
            "Epoch 72/100\n",
            "543/543 - 1s - loss: 4.6487e-04 - 1s/epoch - 2ms/step\n",
            "Epoch 73/100\n",
            "543/543 - 1s - loss: 4.5738e-04 - 1s/epoch - 2ms/step\n",
            "Epoch 74/100\n",
            "543/543 - 1s - loss: 5.0745e-04 - 959ms/epoch - 2ms/step\n",
            "Epoch 75/100\n",
            "543/543 - 1s - loss: 4.8595e-04 - 985ms/epoch - 2ms/step\n",
            "Epoch 76/100\n",
            "543/543 - 1s - loss: 4.8721e-04 - 968ms/epoch - 2ms/step\n",
            "Epoch 77/100\n",
            "543/543 - 1s - loss: 4.7167e-04 - 995ms/epoch - 2ms/step\n",
            "Epoch 78/100\n",
            "543/543 - 1s - loss: 4.5533e-04 - 1s/epoch - 2ms/step\n",
            "Epoch 79/100\n",
            "543/543 - 1s - loss: 4.7101e-04 - 1s/epoch - 3ms/step\n",
            "Epoch 80/100\n",
            "543/543 - 1s - loss: 4.7194e-04 - 1s/epoch - 2ms/step\n",
            "Epoch 81/100\n",
            "543/543 - 1s - loss: 4.5006e-04 - 1s/epoch - 2ms/step\n",
            "Epoch 82/100\n",
            "543/543 - 1s - loss: 4.9367e-04 - 1s/epoch - 2ms/step\n",
            "Epoch 83/100\n",
            "543/543 - 2s - loss: 4.6305e-04 - 2s/epoch - 3ms/step\n",
            "Epoch 84/100\n",
            "543/543 - 1s - loss: 4.7684e-04 - 979ms/epoch - 2ms/step\n",
            "Epoch 85/100\n",
            "543/543 - 1s - loss: 4.8991e-04 - 974ms/epoch - 2ms/step\n",
            "Epoch 86/100\n",
            "543/543 - 1s - loss: 4.6961e-04 - 979ms/epoch - 2ms/step\n",
            "Epoch 87/100\n",
            "543/543 - 1s - loss: 4.8713e-04 - 985ms/epoch - 2ms/step\n",
            "Epoch 88/100\n",
            "543/543 - 1s - loss: 4.6732e-04 - 980ms/epoch - 2ms/step\n",
            "Epoch 89/100\n",
            "543/543 - 1s - loss: 4.7211e-04 - 1s/epoch - 2ms/step\n",
            "Epoch 90/100\n",
            "543/543 - 1s - loss: 4.7634e-04 - 1s/epoch - 3ms/step\n",
            "Epoch 91/100\n",
            "543/543 - 1s - loss: 4.9217e-04 - 1s/epoch - 3ms/step\n",
            "Epoch 92/100\n",
            "543/543 - 1s - loss: 4.6087e-04 - 993ms/epoch - 2ms/step\n",
            "Epoch 93/100\n",
            "543/543 - 1s - loss: 4.6752e-04 - 997ms/epoch - 2ms/step\n",
            "Epoch 94/100\n",
            "543/543 - 1s - loss: 4.5716e-04 - 976ms/epoch - 2ms/step\n",
            "Epoch 95/100\n",
            "543/543 - 1s - loss: 5.1814e-04 - 990ms/epoch - 2ms/step\n",
            "Epoch 96/100\n",
            "543/543 - 1s - loss: 4.6860e-04 - 976ms/epoch - 2ms/step\n",
            "Epoch 97/100\n",
            "543/543 - 1s - loss: 4.8660e-04 - 979ms/epoch - 2ms/step\n",
            "Epoch 98/100\n",
            "543/543 - 1s - loss: 4.6358e-04 - 1s/epoch - 2ms/step\n",
            "Epoch 99/100\n",
            "543/543 - 1s - loss: 4.7123e-04 - 981ms/epoch - 2ms/step\n",
            "Epoch 100/100\n",
            "543/543 - 1s - loss: 5.0365e-04 - 964ms/epoch - 2ms/step\n"
          ]
        },
        {
          "output_type": "execute_result",
          "data": {
            "text/plain": [
              "<keras.src.callbacks.History at 0x7b539e812bc0>"
            ]
          },
          "metadata": {},
          "execution_count": 13
        }
      ]
    },
    {
      "cell_type": "code",
      "source": [
        "# Make predictions\n",
        "trainPredict = model.predict(trainX)\n",
        "testPredict = model.predict(testX)\n"
      ],
      "metadata": {
        "colab": {
          "base_uri": "https://localhost:8080/"
        },
        "id": "6Xff08DPsXFn",
        "outputId": "c841bd92-8649-412b-ee64-0e16a1813ba6"
      },
      "execution_count": null,
      "outputs": [
        {
          "output_type": "stream",
          "name": "stdout",
          "text": [
            "17/17 [==============================] - 1s 2ms/step\n",
            "5/5 [==============================] - 0s 3ms/step\n"
          ]
        }
      ]
    },
    {
      "cell_type": "code",
      "source": [
        "# Invert predictions\n",
        "trainPredict = scaler.inverse_transform(trainPredict)\n",
        "trainY = scaler.inverse_transform([trainY])\n",
        "testPredict = scaler.inverse_transform(testPredict)\n",
        "testY = scaler.inverse_transform([testY])"
      ],
      "metadata": {
        "id": "WdLdDTpCsaIt"
      },
      "execution_count": null,
      "outputs": []
    },
    {
      "cell_type": "code",
      "source": [
        "# Calculate  mean absolute error\n",
        "trainScore_mae = mean_absolute_error(trainY[0], trainPredict[:,0])\n",
        "print('Train Score MAE: %.2f' % (trainScore_mae))\n",
        "testScore_mae = mean_absolute_error(testY[0], testPredict[:,0])\n",
        "print('Test Score MAE: %.2f' % (testScore_mae))"
      ],
      "metadata": {
        "colab": {
          "base_uri": "https://localhost:8080/"
        },
        "id": "BgTMBkiBsooN",
        "outputId": "85a29190-53e6-44a4-b2a3-7c9750196da4"
      },
      "execution_count": null,
      "outputs": [
        {
          "output_type": "stream",
          "name": "stdout",
          "text": [
            "Train Score MAE: 2.37\n",
            "Test Score MAE: 2.73\n"
          ]
        }
      ]
    },
    {
      "cell_type": "code",
      "source": [
        "trainScore_mse = mean_squared_error(trainY[0], trainPredict[:,0])\n",
        "print('Train Score MSE: %.2f' % (trainScore_mse))\n",
        "testScore_mse = mean_squared_error(testY[0], testPredict[:,0])\n",
        "print('Test Score MSE: %.2f' % (testScore_mse))"
      ],
      "metadata": {
        "colab": {
          "base_uri": "https://localhost:8080/"
        },
        "id": "6c-6fJ6Fvu-a",
        "outputId": "e2c484d0-d059-44f8-8cf7-822e738bb33d"
      },
      "execution_count": null,
      "outputs": [
        {
          "output_type": "stream",
          "name": "stdout",
          "text": [
            "Train Score MSE: 11.29\n",
            "Test Score MSE: 11.78\n"
          ]
        }
      ]
    },
    {
      "cell_type": "code",
      "source": [
        "# Interpolate the data to obtain the actual predicted value for the next day\n",
        "def interpolate_data(actual_data, predicted_data):\n",
        "    # Interpolate the missing values in the predicted data\n",
        "    interpolated_data = np.interp(np.arange(len(actual_data)), np.arange(len(predicted_data)), predicted_data)\n",
        "    return interpolated_data"
      ],
      "metadata": {
        "id": "hdOCOQLa7kfC"
      },
      "execution_count": null,
      "outputs": []
    },
    {
      "cell_type": "code",
      "source": [
        "# Interpolate the training and testing predictions\n",
        "interpolated_trainPredict = interpolate_data(scaler.inverse_transform(train_data), trainPredict.flatten())\n",
        "interpolated_testPredict = interpolate_data(scaler.inverse_transform(test_data), testPredict.flatten())"
      ],
      "metadata": {
        "id": "Q1Pt4f867nb-"
      },
      "execution_count": null,
      "outputs": []
    },
    {
      "cell_type": "code",
      "source": [
        "# Plot the results with interpolated predictions\n",
        "plt.figure(figsize=(12, 6))\n",
        "plt.plot(df['Date'].iloc[:len(interpolated_trainPredict)], interpolated_trainPredict, label='Interpolated Train Predictions')\n",
        "plt.plot(df['Date'].iloc[-len(interpolated_testPredict):], interpolated_testPredict, label='Interpolated Test Predictions')\n",
        "plt.plot(df['Date'], df['Close'], label='Actual Data')\n",
        "plt.xlabel('Time')\n",
        "plt.ylabel('Close Price')\n",
        "plt.title('LSTM Model Predictions with Interpolated Data')\n",
        "plt.legend()\n",
        "plt.show()\n",
        "\n"
      ],
      "metadata": {
        "colab": {
          "base_uri": "https://localhost:8080/",
          "height": 564
        },
        "id": "wyLxBXz97rd4",
        "outputId": "d7196c6d-7ca4-4af1-effd-4ca2a1816168"
      },
      "execution_count": null,
      "outputs": [
        {
          "output_type": "display_data",
          "data": {
            "text/plain": [
              "<Figure size 1200x600 with 1 Axes>"
            ],
            "image/png": "[encoded data removed]"
          },
          "metadata": {}
        }
      ]
    },
    {
      "cell_type": "code",
      "source": [
        "# Plot the results\n",
        "trainPredictPlot = np.empty_like(scaled_data)\n",
        "trainPredictPlot[:, :] = np.nan\n",
        "trainPredictPlot[look_back:len(trainPredict)+look_back, :] = trainPredict\n",
        "testPredictPlot = np.empty_like(scaled_data)\n",
        "testPredictPlot[:, :] = np.nan\n",
        "testPredictPlot[len(trainPredict)+(look_back*2):len(scaled_data), :] = testPredict\n",
        "\n",
        "\n"
      ],
      "metadata": {
        "id": "3HeiIO3ivxhy"
      },
      "execution_count": null,
      "outputs": []
    },
    {
      "cell_type": "code",
      "source": [
        "# Get the last date in the dataset\n",
        "last_date = df['Date'].iloc[-1]\n",
        "\n",
        "# Convert the last date to datetime object and add one day to get the date of the next day\n",
        "next_day_date = pd.to_datetime(last_date) + pd.Timedelta(days=1)\n",
        "\n",
        "# Prepare the input data for prediction\n",
        "last_data_point = scaled_data[-look_back:]\n",
        "last_data_point = last_data_point.reshape((1, 1, look_back))\n",
        "\n",
        "# Use the trained LSTM model to predict the value for the next day\n",
        "next_day_prediction = model.predict(last_data_point)\n",
        "\n",
        "# Inverse transform the predicted value to obtain the actual predicted price\n",
        "next_day_predicted_price = scaler.inverse_transform(next_day_prediction)\n",
        "\n",
        "print(\"Date of the next day:\", next_day_date)\n",
        "print(\"Predicted price for the next day:\", next_day_predicted_price[0][0])\n"
      ],
      "metadata": {
        "colab": {
          "base_uri": "https://localhost:8080/"
        },
        "id": "xxaFpd798cvB",
        "outputId": "af800f23-7dfa-4b5a-fdd6-dfdf8bb7db6e"
      },
      "execution_count": null,
      "outputs": [
        {
          "output_type": "stream",
          "name": "stdout",
          "text": [
            "1/1 [==============================] - 0s 22ms/step\n",
            "Date of the next day: 2024-04-26 00:00:00\n",
            "Predicted price for the next day: 183.22566\n"
          ]
        }
      ]
    },
    {
      "cell_type": "code",
      "source": [
        "import seaborn as sns\n",
        "\n",
        "# Define MAE and MSE values\n",
        "mae_values = [trainScore_mae, testScore_mae]\n",
        "mse_values = [trainScore_mse, testScore_mse]\n",
        "labels = ['Train', 'Test']\n",
        "\n",
        "# Create a DataFrame for visualization\n",
        "results_df = pd.DataFrame({'MAE': mae_values, 'MSE': mse_values}, index=labels)\n",
        "\n",
        "# Plot heatmap\n",
        "plt.figure(figsize=(8, 6))\n",
        "sns.heatmap(results_df, annot=True, cmap='coolwarm', fmt='.2f')\n",
        "plt.title('MAE and MSE for Train and Test Sets')\n",
        "plt.xlabel('Metrics')\n",
        "plt.ylabel('Dataset')\n",
        "plt.show()\n"
      ],
      "metadata": {
        "colab": {
          "base_uri": "https://localhost:8080/",
          "height": 564
        },
        "id": "23g8w-zFw56n",
        "outputId": "c2f13a4e-d031-4acb-b3d2-82ee36f0ba63"
      },
      "execution_count": null,
      "outputs": [
        {
          "output_type": "display_data",
          "data": {
            "text/plain": [
              "<Figure size 800x600 with 2 Axes>"
            ],
            "image/png": "[encoded data removed]"
          },
          "metadata": {}
        }
      ]
    },
    {
      "cell_type": "code",
      "source": [],
      "metadata": {
        "id": "tkZWweYKBuGE"
      },
      "execution_count": null,
      "outputs": []
    }
  ]
}